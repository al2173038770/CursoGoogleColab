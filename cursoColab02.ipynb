{
  "nbformat": 4,
  "nbformat_minor": 0,
  "metadata": {
    "colab": {
      "name": "cursoColab02.ipynb",
      "provenance": [],
      "mount_file_id": "1FOmYoV4N8Sgshy6ndEEgsquOja62n99e",
      "authorship_tag": "ABX9TyNQgRozcv4bQen/Ust7Lmrn",
      "include_colab_link": true
    },
    "kernelspec": {
      "name": "python3",
      "display_name": "Python 3"
    },
    "language_info": {
      "name": "python"
    }
  },
  "cells": [
    {
      "cell_type": "markdown",
      "metadata": {
        "id": "view-in-github",
        "colab_type": "text"
      },
      "source": [
        "<a href=\"https://colab.research.google.com/github/artreysan/cursoGoogleColab/blob/main/cursoColab02.ipynb\" target=\"_parent\"><img src=\"https://colab.research.google.com/assets/colab-badge.svg\" alt=\"Open In Colab\"/></a>"
      ]
    },
    {
      "cell_type": "code",
      "metadata": {
        "colab": {
          "base_uri": "https://localhost:8080/"
        },
        "id": "MRv6EGCiwlXv",
        "outputId": "55c8b916-8c04-4d0f-c2d9-bcbbae04bab7"
      },
      "source": [
        "print(\"Hola mundo\")\n"
      ],
      "execution_count": null,
      "outputs": [
        {
          "output_type": "stream",
          "text": [
            "Hola mundo\n"
          ],
          "name": "stdout"
        }
      ]
    },
    {
      "cell_type": "code",
      "metadata": {
        "id": "Em4WB1J0xCkg"
      },
      "source": [
        "import pandas as pd\n",
        "dataset=pd.read_csv('Compras.csv')\n",
        "dataset.head()\n",
        "\n"
      ],
      "execution_count": null,
      "outputs": []
    }
  ]
}