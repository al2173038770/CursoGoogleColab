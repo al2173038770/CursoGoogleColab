{
  "nbformat": 4,
  "nbformat_minor": 0,
  "metadata": {
    "colab": {
      "name": "cursoColab02.ipynb",
      "provenance": [],
      "toc_visible": true,
      "mount_file_id": "1FOmYoV4N8Sgshy6ndEEgsquOja62n99e",
      "authorship_tag": "ABX9TyNWJdgVHfyKoR9JKOCrLw0m",
      "include_colab_link": true
    },
    "kernelspec": {
      "name": "python3",
      "display_name": "Python 3"
    },
    "language_info": {
      "name": "python"
    }
  },
  "cells": [
    {
      "cell_type": "markdown",
      "metadata": {
        "id": "view-in-github",
        "colab_type": "text"
      },
      "source": [
        "<a href=\"https://colab.research.google.com/github/artreysan/cursoGoogleColab/blob/main/cursoColab02.ipynb\" target=\"_parent\"><img src=\"https://colab.research.google.com/assets/colab-badge.svg\" alt=\"Open In Colab\"/></a>"
      ]
    },
    {
      "cell_type": "code",
      "metadata": {
        "id": "MRv6EGCiwlXv"
      },
      "source": [
        "print(\"Formularios -- PAGAR POR EL -- \")"
      ],
      "execution_count": null,
      "outputs": []
    },
    {
      "cell_type": "markdown",
      "metadata": {
        "id": "MKjIMWuX6f5F"
      },
      "source": [
        "\n",
        "#@title Mi primer formulario\n",
        "rango= 100#@param {tipe:\"integer\"}\n",
        "b=500#@param {type:\"number\"}\n",
        "titulo = \"grafica\" #@param {type:\"string\"}\n"
      ]
    },
    {
      "cell_type": "code",
      "metadata": {
        "id": "Em4WB1J0xCkg",
        "colab": {
          "base_uri": "https://localhost:8080/",
          "height": 265
        },
        "outputId": "1d03b414-3efd-416e-ebbe-df8b0fe95ed4"
      },
      "source": [
        "import numpy as np \n",
        "from matplotlib import  pyplot as plt\n",
        "\n",
        "x = np.arange(50)\n",
        "y=x**2+3*x+2\n",
        "plt.plot(x,y)\n",
        "plt.show()\n"
      ],
      "execution_count": 2,
      "outputs": [
        {
          "output_type": "display_data",
          "data": {
            "image/png": "[encoded data removed]",
            "text/plain": [
              "<Figure size 432x288 with 1 Axes>"
            ]
          },
          "metadata": {
            "tags": [],
            "needs_background": "light"
          }
        }
      ]
    },
    {
      "cell_type": "code",
      "metadata": {
        "id": "gkJ6SZc37br7"
      },
      "source": [
        ""
      ],
      "execution_count": null,
      "outputs": []
    }
  ]
}